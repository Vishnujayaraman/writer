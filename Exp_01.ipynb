{
 "cells": [
  {
   "cell_type": "markdown",
   "id": "f168f4dc-cd91-4660-8d4a-e1c3d30f3256",
   "metadata": {},
   "source": [
    "## importing & Checking version"
   ]
  },
  {
   "cell_type": "code",
   "execution_count": 2,
   "id": "8ae4ba11-2f03-449e-843f-7fbcf184e693",
   "metadata": {},
   "outputs": [],
   "source": [
    "import numpy as np"
   ]
  },
  {
   "cell_type": "code",
   "execution_count": 6,
   "id": "f1024e34-c5fd-4705-85e4-bd0219dc30bf",
   "metadata": {},
   "outputs": [
    {
     "data": {
      "text/plain": [
       "'1.26.4'"
      ]
     },
     "execution_count": 6,
     "metadata": {},
     "output_type": "execute_result"
    }
   ],
   "source": [
    "np.version.version"
   ]
  },
  {
   "cell_type": "markdown",
   "id": "5b342fe4-2380-4f03-aa24-a5960167a8aa",
   "metadata": {},
   "source": [
    "## Array Creation in Numpy"
   ]
  },
  {
   "cell_type": "code",
   "execution_count": 8,
   "id": "63c104be-3606-452c-8aec-e0bdd4df0480",
   "metadata": {},
   "outputs": [],
   "source": [
    "# Creating 1d array\n",
    "first_array = np.array([1,2,3])"
   ]
  },
  {
   "cell_type": "code",
   "execution_count": 10,
   "id": "565ad84a-fcb5-411b-93f8-e84a307c522c",
   "metadata": {},
   "outputs": [],
   "source": [
    "# Creating 2d array\n",
    "second_array = np.array([(4,5,6),(7,8,9)])"
   ]
  },
  {
   "cell_type": "code",
   "execution_count": 12,
   "id": "2d0cbf71-0db5-4d00-a922-a9c2f91027fe",
   "metadata": {},
   "outputs": [],
   "source": [
    "# Creating 3d array\n",
    "third_array = np.array([[(10,11,12),(13,14,15)],[(16,17,18),(19,20,21)]])"
   ]
  },
  {
   "cell_type": "raw",
   "id": "ec88f9ff-e1b3-4e60-9fb2-bb7a6690e54a",
   "metadata": {},
   "source": [
    "third_array"
   ]
  },
  {
   "cell_type": "code",
   "execution_count": 16,
   "id": "3f778da5-00e0-4ac4-a14a-6fb1d80b3a5b",
   "metadata": {},
   "outputs": [],
   "source": [
    "# Array of Zeros\n",
    "zero_array = np.zeros((2,2))"
   ]
  },
  {
   "cell_type": "code",
   "execution_count": 20,
   "id": "75af4e48-d0d9-4e35-84e3-f60d1634f8f2",
   "metadata": {},
   "outputs": [],
   "source": [
    "# Array of Ones\n",
    "ones_array = np.ones((3,4))"
   ]
  },
  {
   "cell_type": "code",
   "execution_count": 23,
   "id": "8d89c25d-c30f-4cc3-9e99-9c44adf922d6",
   "metadata": {},
   "outputs": [],
   "source": [
    "# Matrix using Numpy\n",
    "matrix_array = np.matrix('1,2,3;4,5,6')"
   ]
  },
  {
   "cell_type": "raw",
   "id": "a7a3a2a2-e1c5-4b8a-919e-168ef68345a6",
   "metadata": {},
   "source": [
    "matrix_array"
   ]
  },
  {
   "cell_type": "markdown",
   "id": "550838c3-993f-49a3-b483-599b104ea48b",
   "metadata": {},
   "source": [
    "## Array Operations in Numpy"
   ]
  },
  {
   "cell_type": "code",
   "execution_count": 28,
   "id": "2b79ac7e-b0b4-409f-b846-874957d732e4",
   "metadata": {},
   "outputs": [],
   "source": [
    "# Create a Matrix\n",
    "My_matrix = np.array([(11,17),(23,25)])"
   ]
  },
  {
   "cell_type": "code",
   "execution_count": 30,
   "id": "d862c255-b4f3-442e-a955-e13943ca134d",
   "metadata": {},
   "outputs": [],
   "source": [
    "# Transpose Operation\n",
    "matrix_transpose = np.transpose(My_matrix)"
   ]
  },
  {
   "cell_type": "code",
   "execution_count": 32,
   "id": "7da45c5e-8467-4799-a442-f70a6c296fdc",
   "metadata": {},
   "outputs": [],
   "source": [
    "# Determinant Operation\n",
    "det = np.linalg.det(My_matrix)"
   ]
  },
  {
   "cell_type": "code",
   "execution_count": 36,
   "id": "4e6fc00f-a126-4fe9-9b60-eb0e962434fb",
   "metadata": {},
   "outputs": [],
   "source": [
    "# Inverse Operation\n",
    "inverse = np.linalg.inv(My_matrix)"
   ]
  },
  {
   "cell_type": "code",
   "execution_count": 38,
   "id": "25f08550-91c0-4608-a27d-175939ae7063",
   "metadata": {},
   "outputs": [],
   "source": [
    "# Resize an Array\n",
    "ones_array.resize((4,1))"
   ]
  },
  {
   "cell_type": "code",
   "execution_count": null,
   "id": "ff1db34c-a99c-48a6-a7e7-42fd18c428da",
   "metadata": {},
   "outputs": [],
   "source": []
  }
 ],
 "metadata": {
  "kernelspec": {
   "display_name": "Python 3 (ipykernel)",
   "language": "python",
   "name": "python3"
  },
  "language_info": {
   "codemirror_mode": {
    "name": "ipython",
    "version": 3
   },
   "file_extension": ".py",
   "mimetype": "text/x-python",
   "name": "python",
   "nbconvert_exporter": "python",
   "pygments_lexer": "ipython3",
   "version": "3.11.7"
  }
 },
 "nbformat": 4,
 "nbformat_minor": 5
}
