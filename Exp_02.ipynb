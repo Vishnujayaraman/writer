{
 "cells": [
  {
   "cell_type": "raw",
   "id": "c685c00f-3b22-4440-996b-f130bb6c8904",
   "metadata": {
    "jupyter": {
     "source_hidden": true
    }
   },
   "source": [
    "pip install scikit-learn"
   ]
  },
  {
   "cell_type": "markdown",
   "id": "3d4e567d-4a1b-4ef2-90f8-38492e5639eb",
   "metadata": {},
   "source": [
    "## Importing & Checking version"
   ]
  },
  {
   "cell_type": "code",
   "execution_count": 1,
   "id": "0c177f23-0ab9-4eb4-840e-ceb7b11ae6b0",
   "metadata": {},
   "outputs": [],
   "source": [
    "import pandas as pd"
   ]
  },
  {
   "cell_type": "code",
   "execution_count": 3,
   "id": "138954d8-2993-40dc-88c8-0cd90cf2fb6b",
   "metadata": {},
   "outputs": [],
   "source": [
    "import numpy as np"
   ]
  },
  {
   "cell_type": "markdown",
   "id": "27a1e709-ac63-48bc-b178-673852afcc9f",
   "metadata": {},
   "source": [
    "## Creating a series in Pandas"
   ]
  },
  {
   "cell_type": "code",
   "execution_count": 6,
   "id": "990f7eb6-ac4b-4945-abdd-5017827675f2",
   "metadata": {},
   "outputs": [],
   "source": [
    "alphabet = pd.Series([1,2,3,4], index=['A','B','C','D'])"
   ]
  },
  {
   "cell_type": "markdown",
   "id": "ca467fdf-b8df-42da-997e-366e36c21a19",
   "metadata": {},
   "source": [
    "## Creating a dataFrame in Pandas"
   ]
  },
  {
   "cell_type": "code",
   "execution_count": 9,
   "id": "2aa57c28-53d8-4d86-8e37-377614449b71",
   "metadata": {},
   "outputs": [],
   "source": [
    "data = {'Games': ['GTA V', 'NFS Rivals', 'Cricket 19'], 'Rating': [9,7,8]}"
   ]
  },
  {
   "cell_type": "code",
   "execution_count": 11,
   "id": "8b6967e1-e739-4864-ac50-965b3fb53532",
   "metadata": {},
   "outputs": [],
   "source": [
    "dataframe = pd.DataFrame(data, columns = ['Games', 'Rating'])"
   ]
  },
  {
   "cell_type": "code",
   "execution_count": null,
   "id": "edffa350-7825-4320-a5d7-fd58ad4dd362",
   "metadata": {},
   "outputs": [],
   "source": [
    "dataframe"
   ]
  },
  {
   "cell_type": "markdown",
   "id": "78c1a632-a1b0-4aa5-93f2-83c2ef97e059",
   "metadata": {},
   "source": [
    "## Data Frame Operations"
   ]
  },
  {
   "cell_type": "raw",
   "id": "af50b19e-632e-40f9-ac96-72f84cf5f816",
   "metadata": {},
   "source": [
    "number = np.random.randint(0,300,size=(20,5,5))"
   ]
  },
  {
   "cell_type": "raw",
   "id": "3c79cdab-86e7-4cdc-91a6-71f41d092deb",
   "metadata": {},
   "source": [
    "number"
   ]
  },
  {
   "cell_type": "code",
   "execution_count": 13,
   "id": "7cc55079-2d55-46e4-af8c-a21e08a16c28",
   "metadata": {},
   "outputs": [],
   "source": [
    "# Creating Data Frame with Random Numbers\n",
    "random = pd.DataFrame(np.random.randint(0,300,size=(20,4)), columns=list('ABCD'))"
   ]
  },
  {
   "cell_type": "code",
   "execution_count": null,
   "id": "c9ea46bb-7980-4b79-b872-84680929708f",
   "metadata": {},
   "outputs": [],
   "source": [
    "random"
   ]
  },
  {
   "cell_type": "code",
   "execution_count": 15,
   "id": "d625d167-cf54-49a6-a952-dce24262723e",
   "metadata": {},
   "outputs": [],
   "source": [
    "# Saving a Data Frame\n",
    "random.to_csv('random.csv')"
   ]
  },
  {
   "cell_type": "markdown",
   "id": "4b68ab95-df43-4682-b26a-880dfc2486f9",
   "metadata": {},
   "source": [
    "## Data Manipulation"
   ]
  },
  {
   "cell_type": "code",
   "execution_count": 17,
   "id": "e774728e-db78-4b55-a693-bb299caee5ec",
   "metadata": {},
   "outputs": [],
   "source": [
    "# Importing external data\n",
    "data = pd.read_csv('random.csv')"
   ]
  },
  {
   "cell_type": "code",
   "execution_count": 19,
   "id": "2c6ae21d-b4f4-4d9b-8aee-8b30aa9af0b5",
   "metadata": {},
   "outputs": [
    {
     "data": {
      "text/html": [
       "<div>\n",
       "<style scoped>\n",
       "    .dataframe tbody tr th:only-of-type {\n",
       "        vertical-align: middle;\n",
       "    }\n",
       "\n",
       "    .dataframe tbody tr th {\n",
       "        vertical-align: top;\n",
       "    }\n",
       "\n",
       "    .dataframe thead th {\n",
       "        text-align: right;\n",
       "    }\n",
       "</style>\n",
       "<table border=\"1\" class=\"dataframe\">\n",
       "  <thead>\n",
       "    <tr style=\"text-align: right;\">\n",
       "      <th></th>\n",
       "      <th>A</th>\n",
       "      <th>B</th>\n",
       "      <th>C</th>\n",
       "      <th>D</th>\n",
       "    </tr>\n",
       "  </thead>\n",
       "  <tbody>\n",
       "    <tr>\n",
       "      <th>0</th>\n",
       "      <td>239</td>\n",
       "      <td>128</td>\n",
       "      <td>48</td>\n",
       "      <td>265</td>\n",
       "    </tr>\n",
       "    <tr>\n",
       "      <th>1</th>\n",
       "      <td>194</td>\n",
       "      <td>194</td>\n",
       "      <td>207</td>\n",
       "      <td>232</td>\n",
       "    </tr>\n",
       "    <tr>\n",
       "      <th>2</th>\n",
       "      <td>163</td>\n",
       "      <td>188</td>\n",
       "      <td>44</td>\n",
       "      <td>173</td>\n",
       "    </tr>\n",
       "    <tr>\n",
       "      <th>3</th>\n",
       "      <td>42</td>\n",
       "      <td>158</td>\n",
       "      <td>272</td>\n",
       "      <td>219</td>\n",
       "    </tr>\n",
       "    <tr>\n",
       "      <th>4</th>\n",
       "      <td>108</td>\n",
       "      <td>53</td>\n",
       "      <td>9</td>\n",
       "      <td>35</td>\n",
       "    </tr>\n",
       "    <tr>\n",
       "      <th>5</th>\n",
       "      <td>50</td>\n",
       "      <td>238</td>\n",
       "      <td>22</td>\n",
       "      <td>247</td>\n",
       "    </tr>\n",
       "    <tr>\n",
       "      <th>6</th>\n",
       "      <td>221</td>\n",
       "      <td>286</td>\n",
       "      <td>200</td>\n",
       "      <td>281</td>\n",
       "    </tr>\n",
       "    <tr>\n",
       "      <th>7</th>\n",
       "      <td>15</td>\n",
       "      <td>50</td>\n",
       "      <td>35</td>\n",
       "      <td>206</td>\n",
       "    </tr>\n",
       "    <tr>\n",
       "      <th>8</th>\n",
       "      <td>265</td>\n",
       "      <td>13</td>\n",
       "      <td>176</td>\n",
       "      <td>221</td>\n",
       "    </tr>\n",
       "    <tr>\n",
       "      <th>9</th>\n",
       "      <td>82</td>\n",
       "      <td>63</td>\n",
       "      <td>191</td>\n",
       "      <td>61</td>\n",
       "    </tr>\n",
       "    <tr>\n",
       "      <th>10</th>\n",
       "      <td>195</td>\n",
       "      <td>212</td>\n",
       "      <td>217</td>\n",
       "      <td>20</td>\n",
       "    </tr>\n",
       "    <tr>\n",
       "      <th>11</th>\n",
       "      <td>211</td>\n",
       "      <td>274</td>\n",
       "      <td>66</td>\n",
       "      <td>239</td>\n",
       "    </tr>\n",
       "    <tr>\n",
       "      <th>12</th>\n",
       "      <td>12</td>\n",
       "      <td>89</td>\n",
       "      <td>282</td>\n",
       "      <td>276</td>\n",
       "    </tr>\n",
       "    <tr>\n",
       "      <th>13</th>\n",
       "      <td>292</td>\n",
       "      <td>259</td>\n",
       "      <td>285</td>\n",
       "      <td>260</td>\n",
       "    </tr>\n",
       "    <tr>\n",
       "      <th>14</th>\n",
       "      <td>77</td>\n",
       "      <td>217</td>\n",
       "      <td>231</td>\n",
       "      <td>259</td>\n",
       "    </tr>\n",
       "    <tr>\n",
       "      <th>15</th>\n",
       "      <td>125</td>\n",
       "      <td>138</td>\n",
       "      <td>211</td>\n",
       "      <td>32</td>\n",
       "    </tr>\n",
       "    <tr>\n",
       "      <th>16</th>\n",
       "      <td>118</td>\n",
       "      <td>205</td>\n",
       "      <td>118</td>\n",
       "      <td>115</td>\n",
       "    </tr>\n",
       "    <tr>\n",
       "      <th>17</th>\n",
       "      <td>71</td>\n",
       "      <td>56</td>\n",
       "      <td>75</td>\n",
       "      <td>265</td>\n",
       "    </tr>\n",
       "    <tr>\n",
       "      <th>18</th>\n",
       "      <td>150</td>\n",
       "      <td>154</td>\n",
       "      <td>7</td>\n",
       "      <td>168</td>\n",
       "    </tr>\n",
       "    <tr>\n",
       "      <th>19</th>\n",
       "      <td>59</td>\n",
       "      <td>199</td>\n",
       "      <td>29</td>\n",
       "      <td>147</td>\n",
       "    </tr>\n",
       "  </tbody>\n",
       "</table>\n",
       "</div>"
      ],
      "text/plain": [
       "      A    B    C    D\n",
       "0   239  128   48  265\n",
       "1   194  194  207  232\n",
       "2   163  188   44  173\n",
       "3    42  158  272  219\n",
       "4   108   53    9   35\n",
       "5    50  238   22  247\n",
       "6   221  286  200  281\n",
       "7    15   50   35  206\n",
       "8   265   13  176  221\n",
       "9    82   63  191   61\n",
       "10  195  212  217   20\n",
       "11  211  274   66  239\n",
       "12   12   89  282  276\n",
       "13  292  259  285  260\n",
       "14   77  217  231  259\n",
       "15  125  138  211   32\n",
       "16  118  205  118  115\n",
       "17   71   56   75  265\n",
       "18  150  154    7  168\n",
       "19   59  199   29  147"
      ]
     },
     "execution_count": 19,
     "metadata": {},
     "output_type": "execute_result"
    }
   ],
   "source": [
    "# Dropping a Data Frame\n",
    "data.drop('Unnamed: 0', axis=1)"
   ]
  },
  {
   "cell_type": "code",
   "execution_count": 21,
   "id": "c3330e79-7983-4268-8120-ee03587e56ef",
   "metadata": {},
   "outputs": [
    {
     "data": {
      "text/plain": [
       "(20, 5)"
      ]
     },
     "execution_count": 21,
     "metadata": {},
     "output_type": "execute_result"
    }
   ],
   "source": [
    "# Shape of a Data Frame\n",
    "data.shape"
   ]
  },
  {
   "cell_type": "code",
   "execution_count": 23,
   "id": "1027a67d-a3c1-4c37-82c3-8bddad617cef",
   "metadata": {},
   "outputs": [
    {
     "name": "stdout",
     "output_type": "stream",
     "text": [
      "<class 'pandas.core.frame.DataFrame'>\n",
      "RangeIndex: 20 entries, 0 to 19\n",
      "Data columns (total 5 columns):\n",
      " #   Column      Non-Null Count  Dtype\n",
      "---  ------      --------------  -----\n",
      " 0   Unnamed: 0  20 non-null     int64\n",
      " 1   A           20 non-null     int64\n",
      " 2   B           20 non-null     int64\n",
      " 3   C           20 non-null     int64\n",
      " 4   D           20 non-null     int64\n",
      "dtypes: int64(5)\n",
      "memory usage: 932.0 bytes\n"
     ]
    }
   ],
   "source": [
    "# Get information about the Data Frame\n",
    "data.info()"
   ]
  },
  {
   "cell_type": "code",
   "execution_count": 31,
   "id": "305de003-f353-40c5-a48d-e6bf3a2c8d99",
   "metadata": {},
   "outputs": [],
   "source": [
    "import sklearn"
   ]
  },
  {
   "cell_type": "code",
   "execution_count": 25,
   "id": "8c53a9a9-3f79-4c35-902a-345306848e74",
   "metadata": {},
   "outputs": [],
   "source": [
    "# Shuffling the data frame\n",
    "\n",
    "from sklearn.utils import shuffle\n",
    "shuffle_data = shuffle(data).reset_index()"
   ]
  },
  {
   "cell_type": "code",
   "execution_count": 27,
   "id": "8c1d712e-d0d9-40a0-bd3c-2ebf1936b259",
   "metadata": {},
   "outputs": [
    {
     "data": {
      "text/html": [
       "<div>\n",
       "<style scoped>\n",
       "    .dataframe tbody tr th:only-of-type {\n",
       "        vertical-align: middle;\n",
       "    }\n",
       "\n",
       "    .dataframe tbody tr th {\n",
       "        vertical-align: top;\n",
       "    }\n",
       "\n",
       "    .dataframe thead th {\n",
       "        text-align: right;\n",
       "    }\n",
       "</style>\n",
       "<table border=\"1\" class=\"dataframe\">\n",
       "  <thead>\n",
       "    <tr style=\"text-align: right;\">\n",
       "      <th></th>\n",
       "      <th>index</th>\n",
       "      <th>Unnamed: 0</th>\n",
       "      <th>A</th>\n",
       "      <th>B</th>\n",
       "      <th>C</th>\n",
       "      <th>D</th>\n",
       "    </tr>\n",
       "  </thead>\n",
       "  <tbody>\n",
       "    <tr>\n",
       "      <th>0</th>\n",
       "      <td>19</td>\n",
       "      <td>19</td>\n",
       "      <td>59</td>\n",
       "      <td>199</td>\n",
       "      <td>29</td>\n",
       "      <td>147</td>\n",
       "    </tr>\n",
       "    <tr>\n",
       "      <th>1</th>\n",
       "      <td>7</td>\n",
       "      <td>7</td>\n",
       "      <td>15</td>\n",
       "      <td>50</td>\n",
       "      <td>35</td>\n",
       "      <td>206</td>\n",
       "    </tr>\n",
       "    <tr>\n",
       "      <th>2</th>\n",
       "      <td>6</td>\n",
       "      <td>6</td>\n",
       "      <td>221</td>\n",
       "      <td>286</td>\n",
       "      <td>200</td>\n",
       "      <td>281</td>\n",
       "    </tr>\n",
       "    <tr>\n",
       "      <th>3</th>\n",
       "      <td>10</td>\n",
       "      <td>10</td>\n",
       "      <td>195</td>\n",
       "      <td>212</td>\n",
       "      <td>217</td>\n",
       "      <td>20</td>\n",
       "    </tr>\n",
       "    <tr>\n",
       "      <th>4</th>\n",
       "      <td>18</td>\n",
       "      <td>18</td>\n",
       "      <td>150</td>\n",
       "      <td>154</td>\n",
       "      <td>7</td>\n",
       "      <td>168</td>\n",
       "    </tr>\n",
       "    <tr>\n",
       "      <th>5</th>\n",
       "      <td>15</td>\n",
       "      <td>15</td>\n",
       "      <td>125</td>\n",
       "      <td>138</td>\n",
       "      <td>211</td>\n",
       "      <td>32</td>\n",
       "    </tr>\n",
       "    <tr>\n",
       "      <th>6</th>\n",
       "      <td>4</td>\n",
       "      <td>4</td>\n",
       "      <td>108</td>\n",
       "      <td>53</td>\n",
       "      <td>9</td>\n",
       "      <td>35</td>\n",
       "    </tr>\n",
       "    <tr>\n",
       "      <th>7</th>\n",
       "      <td>0</td>\n",
       "      <td>0</td>\n",
       "      <td>239</td>\n",
       "      <td>128</td>\n",
       "      <td>48</td>\n",
       "      <td>265</td>\n",
       "    </tr>\n",
       "    <tr>\n",
       "      <th>8</th>\n",
       "      <td>1</td>\n",
       "      <td>1</td>\n",
       "      <td>194</td>\n",
       "      <td>194</td>\n",
       "      <td>207</td>\n",
       "      <td>232</td>\n",
       "    </tr>\n",
       "    <tr>\n",
       "      <th>9</th>\n",
       "      <td>8</td>\n",
       "      <td>8</td>\n",
       "      <td>265</td>\n",
       "      <td>13</td>\n",
       "      <td>176</td>\n",
       "      <td>221</td>\n",
       "    </tr>\n",
       "    <tr>\n",
       "      <th>10</th>\n",
       "      <td>13</td>\n",
       "      <td>13</td>\n",
       "      <td>292</td>\n",
       "      <td>259</td>\n",
       "      <td>285</td>\n",
       "      <td>260</td>\n",
       "    </tr>\n",
       "    <tr>\n",
       "      <th>11</th>\n",
       "      <td>5</td>\n",
       "      <td>5</td>\n",
       "      <td>50</td>\n",
       "      <td>238</td>\n",
       "      <td>22</td>\n",
       "      <td>247</td>\n",
       "    </tr>\n",
       "    <tr>\n",
       "      <th>12</th>\n",
       "      <td>2</td>\n",
       "      <td>2</td>\n",
       "      <td>163</td>\n",
       "      <td>188</td>\n",
       "      <td>44</td>\n",
       "      <td>173</td>\n",
       "    </tr>\n",
       "    <tr>\n",
       "      <th>13</th>\n",
       "      <td>11</td>\n",
       "      <td>11</td>\n",
       "      <td>211</td>\n",
       "      <td>274</td>\n",
       "      <td>66</td>\n",
       "      <td>239</td>\n",
       "    </tr>\n",
       "    <tr>\n",
       "      <th>14</th>\n",
       "      <td>17</td>\n",
       "      <td>17</td>\n",
       "      <td>71</td>\n",
       "      <td>56</td>\n",
       "      <td>75</td>\n",
       "      <td>265</td>\n",
       "    </tr>\n",
       "    <tr>\n",
       "      <th>15</th>\n",
       "      <td>14</td>\n",
       "      <td>14</td>\n",
       "      <td>77</td>\n",
       "      <td>217</td>\n",
       "      <td>231</td>\n",
       "      <td>259</td>\n",
       "    </tr>\n",
       "    <tr>\n",
       "      <th>16</th>\n",
       "      <td>3</td>\n",
       "      <td>3</td>\n",
       "      <td>42</td>\n",
       "      <td>158</td>\n",
       "      <td>272</td>\n",
       "      <td>219</td>\n",
       "    </tr>\n",
       "    <tr>\n",
       "      <th>17</th>\n",
       "      <td>16</td>\n",
       "      <td>16</td>\n",
       "      <td>118</td>\n",
       "      <td>205</td>\n",
       "      <td>118</td>\n",
       "      <td>115</td>\n",
       "    </tr>\n",
       "    <tr>\n",
       "      <th>18</th>\n",
       "      <td>12</td>\n",
       "      <td>12</td>\n",
       "      <td>12</td>\n",
       "      <td>89</td>\n",
       "      <td>282</td>\n",
       "      <td>276</td>\n",
       "    </tr>\n",
       "    <tr>\n",
       "      <th>19</th>\n",
       "      <td>9</td>\n",
       "      <td>9</td>\n",
       "      <td>82</td>\n",
       "      <td>63</td>\n",
       "      <td>191</td>\n",
       "      <td>61</td>\n",
       "    </tr>\n",
       "  </tbody>\n",
       "</table>\n",
       "</div>"
      ],
      "text/plain": [
       "    index  Unnamed: 0    A    B    C    D\n",
       "0      19          19   59  199   29  147\n",
       "1       7           7   15   50   35  206\n",
       "2       6           6  221  286  200  281\n",
       "3      10          10  195  212  217   20\n",
       "4      18          18  150  154    7  168\n",
       "5      15          15  125  138  211   32\n",
       "6       4           4  108   53    9   35\n",
       "7       0           0  239  128   48  265\n",
       "8       1           1  194  194  207  232\n",
       "9       8           8  265   13  176  221\n",
       "10     13          13  292  259  285  260\n",
       "11      5           5   50  238   22  247\n",
       "12      2           2  163  188   44  173\n",
       "13     11          11  211  274   66  239\n",
       "14     17          17   71   56   75  265\n",
       "15     14          14   77  217  231  259\n",
       "16      3           3   42  158  272  219\n",
       "17     16          16  118  205  118  115\n",
       "18     12          12   12   89  282  276\n",
       "19      9           9   82   63  191   61"
      ]
     },
     "execution_count": 27,
     "metadata": {},
     "output_type": "execute_result"
    }
   ],
   "source": [
    "shuffle_data"
   ]
  },
  {
   "cell_type": "code",
   "execution_count": null,
   "id": "9bf5ff71-e181-47a8-bf18-03bf6f8aedb8",
   "metadata": {},
   "outputs": [],
   "source": []
  }
 ],
 "metadata": {
  "kernelspec": {
   "display_name": "Python 3 (ipykernel)",
   "language": "python",
   "name": "python3"
  },
  "language_info": {
   "codemirror_mode": {
    "name": "ipython",
    "version": 3
   },
   "file_extension": ".py",
   "mimetype": "text/x-python",
   "name": "python",
   "nbconvert_exporter": "python",
   "pygments_lexer": "ipython3",
   "version": "3.11.7"
  }
 },
 "nbformat": 4,
 "nbformat_minor": 5
}
